{
  "cells": [
    {
      "cell_type": "markdown",
      "metadata": {
        "id": "Plt3084Tpf0Y"
      },
      "source": [
        "\n",
        "Travelling Salesman Problem\n",
        "---\n",
        "\n",
        "---\n",
        "\n",
        "\n",
        "Travelling Salesman Poblem (TSP) sebuah permasalahan dalam sebuah perjalanan yang bertujuan untuk mendapat rute terpendek jika destinasi lebih dari satu tanpa kembali ke tempat yang sama. Permasalahan ini termasuk dalam NP-Complete problems. Terdapat berbagai macam algoritma untuk penyelesaian yang akan dibahas dalam notebook ini.\n"
      ]
    },
    {
      "cell_type": "code",
      "execution_count": 22,
      "metadata": {},
      "outputs": [],
      "source": [
        "import math\n",
        "import random\n",
        "import itertools"
      ]
    },
    {
      "cell_type": "code",
      "execution_count": 16,
      "metadata": {},
      "outputs": [],
      "source": [
        "class City:\n",
        "    def __init__(self, x, y):\n",
        "        self.x = x\n",
        "        self.y = y\n",
        "    \n",
        "    def GetDistance(self, anotherCity):\n",
        "        return math.sqrt((self.x - anotherCity.x)**2 + (self.y - anotherCity.y)**2)"
      ]
    },
    {
      "cell_type": "code",
      "execution_count": 28,
      "metadata": {},
      "outputs": [],
      "source": [
        "class Graph:\n",
        "    graph = []\n",
        "    adj_matrix = []\n",
        "\n",
        "    def __init__(self, n):\n",
        "        self.n = n\n",
        "\n",
        "    def CreateGraph(self, max_k = 100):\n",
        "        if len(self.graph) > 0: return\n",
        "        for i in range(self.n):\n",
        "            while True:\n",
        "                x, y = random.randint(0, max_k), random.randint(0, max_k)\n",
        "                if City(x,y) not in self.graph:\n",
        "                    self.graph.append(City(x,y))\n",
        "                    break\n",
        "        self.GetAdjMatrix()\n",
        "        return self\n",
        "\n",
        "    def GetAdjMatrix(self):\n",
        "        if len(self.adj_matrix) > 0: return\n",
        "        if len(self.graph) == 0: self.CreateGraph()\n",
        "        self.adj_matrix = [[self.graph[i].GetDistance(self.graph[j]) for i in range(self.n)] for j in range(self.n)]\n"
      ]
    },
    {
      "cell_type": "code",
      "execution_count": 23,
      "metadata": {},
      "outputs": [],
      "source": [
        "class Tour:\n",
        "    def __init__(self, path, gra):\n",
        "        self.path = path\n",
        "        self.gra = gra\n",
        "\n",
        "    def GetDistance(self):\n",
        "        dist = 0\n",
        "        for i in range(len(self.path)-1):\n",
        "            dist += self.gra.adj_matrix[self.path[i]][self.path[i+1]]\n",
        "        return dist"
      ]
    },
    {
      "cell_type": "markdown",
      "metadata": {
        "id": "hWp560SYqj01"
      },
      "source": [
        "Metode Brute Force\n",
        "\n",
        "---\n",
        "Metode brute force adalah metode yang melakukan iterasi terhadap setiap kasus perjalanan yang ada. Algoritma ini memiliki kompleksitas O((n-1)!). Kompleksitas tersebut membuat metode brute dorce menjadi lambat untuk dijalankan. Namun demikian, rute yang dihasilkan akan selalu rute terpendek karena sudah mengecek setiap kondisi yang ada.\n",
        "\n",
        "\n",
        "\n"
      ]
    },
    {
      "cell_type": "code",
      "execution_count": 26,
      "metadata": {},
      "outputs": [],
      "source": [
        "class BruteForce:\n",
        "    path = []\n",
        "    dist = 10**10\n",
        "\n",
        "    def __init__(self, gra):\n",
        "        self.gra = gra\n",
        "    \n",
        "    def GetAllPath(self):\n",
        "        indeks = [a for a in range(1, len(self.gra.n))]\n",
        "        for perm in list(itertools.permutations(indeks)):\n",
        "            perm = list(perm)\n",
        "            perm.insert(0,0), perm.append(0)\n",
        "            tour = Tour(perm, self.gra)\n",
        "            res = tour.GetDistance()\n",
        "            if self.dist > res:\n",
        "                self.dist = res\n",
        "                path = perm\n",
        "            print(perm, res)\n",
        "\n",
        "    def GetDist(self):\n",
        "        indeks = [a for a in range(1, len(self.gra.n))]\n",
        "        for perm in list(itertools.permutations(indeks)):\n",
        "            perm = list(p)\n",
        "            perm.insert(0,0), perm.append(0)\n",
        "            tour = Tour(perm, self.gra)\n",
        "            res = tour.GetDistance()\n",
        "            if self.dist > res:\n",
        "                self.dist = res\n",
        "                path = perm"
      ]
    },
    {
      "cell_type": "code",
      "execution_count": 30,
      "metadata": {},
      "outputs": [
        {
          "ename": "AttributeError",
          "evalue": "'NoneType' object has no attribute 'graph'",
          "output_type": "error",
          "traceback": [
            "\u001b[1;31m---------------------------------------------------------------------------\u001b[0m",
            "\u001b[1;31mAttributeError\u001b[0m                            Traceback (most recent call last)",
            "Cell \u001b[1;32mIn[30], line 1\u001b[0m\n\u001b[1;32m----> 1\u001b[0m BruteForce(Graph(\u001b[39m5\u001b[39;49m)\u001b[39m.\u001b[39;49mCreateGraph()\u001b[39m.\u001b[39;49mgraph)\u001b[39m.\u001b[39mGetAllPath()\n",
            "\u001b[1;31mAttributeError\u001b[0m: 'NoneType' object has no attribute 'graph'"
          ]
        }
      ],
      "source": [
        "temp = Graph(5)\n",
        "BruteForce(Graph(5).CreateGraph().graph).GetAllPath()"
      ]
    },
    {
      "cell_type": "markdown",
      "metadata": {
        "id": "to1vyuiard7a"
      },
      "source": [
        "Algoritma Greedy\n",
        "\n",
        "\n",
        "---\n",
        "Algoritma ini dilakukan dengan langsung mengambil jarak terpendek dari satu tempat ke tempat lainnya. Kelebihan algoritma ini adalah kompleksitas-nya tergolong kecil, yaitu O(n-1). Akan tetapi, kekurangan dari algoritma ini adalah rute yang dihasilkan tidak selalu menjadi yang terpendek, namun untuk kebanyakan kasus hasilnya sudah cukup baik.\n"
      ]
    },
    {
      "cell_type": "code",
      "execution_count": 3,
      "metadata": {},
      "outputs": [],
      "source": [
        "def Greedy(rute):\n",
        "    n = len(rute)\n",
        "    visited = [False for a in range(n)]\n",
        "    visited[0] = True\n",
        "    path = [0]\n",
        "    distance = 0\n",
        "    for i in range(n-1):\n",
        "        distance_now = 10**10\n",
        "        for j in range(n):\n",
        "            if (visited[j]):\n",
        "                continue\n",
        "            if (rute[path[i]][j] < distance_now):\n",
        "                distance_now = rute[path[i]][j]\n",
        "                place = j\n",
        "        visited[place] = True\n",
        "        path.append(place)\n",
        "        distance += distance_now\n",
        "    distance += rute[path[n-1]][0]\n",
        "    path.append(0)\n",
        "    return distance"
      ]
    },
    {
      "attachments": {},
      "cell_type": "markdown",
      "metadata": {},
      "source": [
        "Heuristik\n",
        "\n",
        "---\n",
        "Metode heuristik adalah metode melakukan subtour untuk tempat yang dikunjungi mulai dari (0,0), dan dari (0,0) akan dibuat subtour, seperti (0,1)->(1,0), (0,2)->(2,0) dan seterusnya. Metode heuristik akan langsung mengambil rute dengan penambahan jarak terkecil dalam setiap penggantian subtournya. "
      ]
    },
    {
      "cell_type": "code",
      "execution_count": 4,
      "metadata": {},
      "outputs": [],
      "source": [
        "def Heuristik(rute):\n",
        "    n = len(rute)\n",
        "    count = 2\n",
        "    visited = [False for a in range(n)]\n",
        "    path = [0,0]\n",
        "    visited[0] = True\n",
        "    distance = 0\n",
        "    for i in range(n-1):\n",
        "        distance_now = 10**10\n",
        "        place = []\n",
        "        for j in range(1,count):\n",
        "            for k in range(n):\n",
        "                if (visited[k]):\n",
        "                    continue\n",
        "                substitute = rute[path[j-1]][k] + rute[k][path[j]] - rute[path[j-1]][path[j]]\n",
        "                if (substitute < distance_now):\n",
        "                    distance_now = substitute\n",
        "                    place = [k,j]\n",
        "        distance += distance_now\n",
        "        visited[place[0]] = True\n",
        "        path.insert(place[1], place[0])\n",
        "        count += 1\n",
        "    return distance"
      ]
    },
    {
      "attachments": {},
      "cell_type": "markdown",
      "metadata": {},
      "source": [
        "Uji Keefektifan Algoritma yang Tersedia dengan Metode Brute Force\n",
        "\n",
        "---"
      ]
    },
    {
      "cell_type": "code",
      "execution_count": 5,
      "metadata": {},
      "outputs": [],
      "source": [
        "import random\n",
        "import math\n",
        "\n",
        "def CreateGraph(n):\n",
        "    location = []\n",
        "    for i in range(n):\n",
        "        while True:\n",
        "            x, y = random.randint(-100, 100), random.randint(-100, 100)\n",
        "            if [x,y] not in location:\n",
        "                location.append([x,y])\n",
        "                break\n",
        "    graph = [[math.ceil(math.sqrt((location[i][0]-location[j][0])**2 + (location[i][1]-location[j][1])**2)) for i in range(n)] for j in range(n)]\n",
        "    return graph"
      ]
    },
    {
      "cell_type": "code",
      "execution_count": 8,
      "metadata": {},
      "outputs": [],
      "source": [
        "total_test = 100\n",
        "total_city = 10\n",
        "accuracy_greedy = []\n",
        "accuracy_heuristic = []\n",
        "mae_greedy = []\n",
        "mae_heuristic = []\n",
        "for city in range(3, total_city+1):\n",
        "    count_gr = count_he = 0\n",
        "    err_gr = err_he = 0\n",
        "    for i in range(total_test):\n",
        "        generated = CreateGraph(city)\n",
        "        bf = BruteForce(generated)\n",
        "        gr = Greedy(generated)\n",
        "        he = Heuristik(generated)\n",
        "        if (bf == he):\n",
        "            count_he += 1\n",
        "        if (bf == gr):\n",
        "            count_gr += 1\n",
        "        err_gr += gr - bf\n",
        "        err_he += he - bf\n",
        "    accuracy_greedy.append(count_gr)\n",
        "    accuracy_heuristic.append(count_he)\n",
        "    mae_greedy.append(err_gr / total_test)\n",
        "    mae_heuristic.append(err_he / total_test)"
      ]
    },
    {
      "cell_type": "code",
      "execution_count": 12,
      "metadata": {},
      "outputs": [
        {
          "data": {
            "image/png": "[encoded data removed]",
            "text/plain": [
              "<Figure size 640x480 with 1 Axes>"
            ]
          },
          "metadata": {},
          "output_type": "display_data"
        }
      ],
      "source": [
        "import matplotlib.pyplot as plt\n",
        "temp = [a for a in range(3, total_city+1)]\n",
        "plt.plot(temp, accuracy_heuristic, 'm', label='Heuristic')\n",
        "plt.plot(temp, accuracy_greedy, 'c', label='Greedy')\n",
        "plt.legend(loc='upper right')\n",
        "plt.show()"
      ]
    },
    {
      "cell_type": "code",
      "execution_count": 11,
      "metadata": {},
      "outputs": [
        {
          "data": {
            "image/png": "[encoded data removed]",
            "text/plain": [
              "<Figure size 640x480 with 1 Axes>"
            ]
          },
          "metadata": {},
          "output_type": "display_data"
        }
      ],
      "source": [
        "import matplotlib.pyplot as plt\n",
        "temp = [a for a in range(3, total_city+1)]\n",
        "plt.plot(temp, mae_heuristic, 'm', label='Heuristic')\n",
        "plt.plot(temp, mae_greedy, 'c', label='Greedy')\n",
        "plt.legend(loc='upper right')\n",
        "plt.show()"
      ]
    },
    {
      "cell_type": "code",
      "execution_count": null,
      "metadata": {},
      "outputs": [],
      "source": []
    }
  ],
  "metadata": {
    "colab": {
      "collapsed_sections": [],
      "provenance": []
    },
    "kernelspec": {
      "display_name": "Python 3",
      "language": "python",
      "name": "python3"
    },
    "language_info": {
      "codemirror_mode": {
        "name": "ipython",
        "version": 3
      },
      "file_extension": ".py",
      "mimetype": "text/x-python",
      "name": "python",
      "nbconvert_exporter": "python",
      "pygments_lexer": "ipython3",
      "version": "3.11.2"
    },
    "vscode": {
      "interpreter": {
        "hash": "96726432a51c2e91c601c42ab526a71e1beed58dda598a7dfe5c738afcb83fbb"
      }
    }
  },
  "nbformat": 4,
  "nbformat_minor": 0
}
