{
  "cells": [
    {
      "cell_type": "markdown",
      "metadata": {
        "id": "Plt3084Tpf0Y"
      },
      "source": [
        "\n",
        "Travelling Salesman Problem\n",
        "---\n",
        "\n",
        "---\n",
        "\n",
        "\n",
        "Travelling Salesman Poblem (TSP) sebuah permasalahan dalam sebuah perjalanan yang bertujuan untuk mendapat rute terpendek jika destinasi lebih dari satu tanpa kembali ke tempat yang sama. Permasalahan ini termasuk dalam NP-Complete problems. Terdapat berbagai macam algoritma untuk penyelesaian yang akan dibahas dalam notebook ini.\n"
      ]
    },
    {
      "cell_type": "markdown",
      "metadata": {
        "id": "hWp560SYqj01"
      },
      "source": [
        "Metode Brute Force\n",
        "\n",
        "---\n",
        "Metode brute force adalah metode yang melakukan iterasi terhadap setiap kasus perjalanan yang ada. Algoritma ini memiliki kompleksitas O((n-1)!). Kompleksitas tersebut membuat metode brute dorce menjadi lambat untuk dijalankan. Namun demikian, rute yang dihasilkan akan selalu rute terpendek karena sudah mengecek setiap kondisi yang ada.\n",
        "\n",
        "\n",
        "\n"
      ]
    },
    {
      "cell_type": "code",
      "execution_count": 7,
      "metadata": {},
      "outputs": [],
      "source": [
        "def BruteForce(listo):\n",
        "    import itertools\n",
        "    indeks = [a for a in range(1,len(listo))]\n",
        "    minim = 10**10\n",
        "    rute = []\n",
        "    for p in list(itertools.permutations(indeks)):\n",
        "        p = list(p)\n",
        "        p.insert(0,0), p.append(0)\n",
        "        res = 0\n",
        "        count = 0\n",
        "        for k in range(len(p)-1):\n",
        "            res += listo[p[k]][p[k+1]]\n",
        "        if res < minim:\n",
        "            minim = res\n",
        "            rute = p\n",
        "    return minim"
      ]
    },
    {
      "cell_type": "markdown",
      "metadata": {
        "id": "to1vyuiard7a"
      },
      "source": [
        "Algoritma Greedy\n",
        "\n",
        "\n",
        "---\n",
        "Algoritma ini dilakukan dengan langsung mengambil jarak terpendek dari satu tempat ke tempat lainnya. Kelebihan algoritma ini adalah kompleksitas-nya tergolong kecil, yaitu O(n-1). Akan tetapi, kekurangan dari algoritma ini adalah rute yang dihasilkan tidak selalu menjadi yang terpendek, namun untuk kebanyakan kasus hasilnya sudah cukup baik.\n"
      ]
    },
    {
      "cell_type": "code",
      "execution_count": 8,
      "metadata": {},
      "outputs": [],
      "source": [
        "def Greedy(rute):\n",
        "    n = len(rute)\n",
        "    visited = [False for a in range(n)]\n",
        "    visited[0] = True\n",
        "    path = [0]\n",
        "    distance = 0\n",
        "    for i in range(n-1):\n",
        "        distance_now = 10**10\n",
        "        for j in range(n):\n",
        "            if (visited[j]):\n",
        "                continue\n",
        "            if (rute[path[i]][j] < distance_now):\n",
        "                distance_now = rute[path[i]][j]\n",
        "                place = j\n",
        "        visited[place] = True\n",
        "        path.append(place)\n",
        "        distance += distance_now\n",
        "    distance += rute[path[n-1]][0]\n",
        "    path.append(0)\n",
        "    return distance"
      ]
    },
    {
      "attachments": {},
      "cell_type": "markdown",
      "metadata": {},
      "source": [
        "Heuristik\n",
        "\n",
        "---\n",
        "Metode heuristik adalah metode melakukan subtour untuk tempat yang dikunjungi mulai dari (0,0), dan dari (0,0) akan dibuat subtour, seperti (0,1)->(1,0), (0,2)->(2,0) dan seterusnya. Metode heuristik akan langsung mengambil rute dengan penambahan jarak terkecil dalam setiap penggantian subtournya. "
      ]
    },
    {
      "cell_type": "code",
      "execution_count": 9,
      "metadata": {},
      "outputs": [],
      "source": [
        "def Heuristik(rute):\n",
        "    n = len(rute)\n",
        "    count = 2\n",
        "    visited = [False for a in range(n)]\n",
        "    path = [0,0]\n",
        "    visited[0] = True\n",
        "    distance = 0\n",
        "    for i in range(n-1):\n",
        "        distance_now = 10**10\n",
        "        place = []\n",
        "        for j in range(1,count):\n",
        "            for k in range(n):\n",
        "                if (visited[k]):\n",
        "                    continue\n",
        "                substitute = rute[path[j-1]][k] + rute[k][path[j]] - rute[path[j-1]][path[j]]\n",
        "                if (substitute < distance_now):\n",
        "                    distance_now = substitute\n",
        "                    place = [k,j]\n",
        "        distance += distance_now\n",
        "        visited[place[0]] = True\n",
        "        path.insert(place[1], place[0])\n",
        "        count += 1\n",
        "    return distance"
      ]
    },
    {
      "attachments": {},
      "cell_type": "markdown",
      "metadata": {},
      "source": [
        "Uji Keefektifan Algoritma yang Tersedia dengan Metode Brute Force\n",
        "\n",
        "---"
      ]
    },
    {
      "cell_type": "code",
      "execution_count": 13,
      "metadata": {},
      "outputs": [],
      "source": [
        "import random\n",
        "total_test = 100\n",
        "total_city = 10\n",
        "accuracy_greedy = []\n",
        "accuracy_heuristic = []\n",
        "for city in range(3, total_city+1):\n",
        "    count_gr = count_he = 0\n",
        "    for i in range(total_test):\n",
        "        generated = [[random.randint(1,1000) for i in range(city)] for j in range(city)]\n",
        "        for i in range(city):\n",
        "            generated[i][i] = 0\n",
        "        bf = BruteForce(generated)\n",
        "        gr = Greedy(generated)\n",
        "        he = Heuristik(generated)\n",
        "        if (bf == he):\n",
        "            count_he += 1\n",
        "        if (bf == gr):\n",
        "            count_gr += 1\n",
        "    accuracy_greedy.append(count_gr)\n",
        "    accuracy_heuristic.append(count_he)"
      ]
    },
    {
      "cell_type": "code",
      "execution_count": 14,
      "metadata": {},
      "outputs": [
        {
          "data": {
            "image/png": "[encoded data removed]",
            "text/plain": [
              "<Figure size 640x480 with 1 Axes>"
            ]
          },
          "metadata": {},
          "output_type": "display_data"
        }
      ],
      "source": [
        "import matplotlib.pyplot as plt\n",
        "temp = [a for a in range(3, total_city+1)]\n",
        "plt.plot(temp, accuracy_heuristic, 'm', label='Heuristic')\n",
        "plt.plot(temp, accuracy_greedy, 'c', label='Greedy')\n",
        "plt.legend(loc='upper right')\n",
        "plt.show()"
      ]
    }
  ],
  "metadata": {
    "colab": {
      "collapsed_sections": [],
      "provenance": []
    },
    "kernelspec": {
      "display_name": "Python 3",
      "language": "python",
      "name": "python3"
    },
    "language_info": {
      "codemirror_mode": {
        "name": "ipython",
        "version": 3
      },
      "file_extension": ".py",
      "mimetype": "text/x-python",
      "name": "python",
      "nbconvert_exporter": "python",
      "pygments_lexer": "ipython3",
      "version": "3.11.0"
    },
    "vscode": {
      "interpreter": {
        "hash": "96726432a51c2e91c601c42ab526a71e1beed58dda598a7dfe5c738afcb83fbb"
      }
    }
  },
  "nbformat": 4,
  "nbformat_minor": 0
}
