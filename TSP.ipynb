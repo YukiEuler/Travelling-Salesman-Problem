{
  "nbformat": 4,
  "nbformat_minor": 0,
  "metadata": {
    "colab": {
      "provenance": [],
      "collapsed_sections": []
    },
    "kernelspec": {
      "name": "python3",
      "display_name": "Python 3"
    },
    "language_info": {
      "name": "python"
    }
  },
  "cells": [
    {
      "cell_type": "markdown",
      "source": [
        "\n",
        "Travelling Salesman Problem\n",
        "---\n",
        "\n",
        "---\n",
        "\n",
        "\n",
        "Travelling Salesman Poblem (TSP) sebuah permasalahan dalam sebuah perjalanan yang bertujuan untuk mendapat rute terpendek jika destinasi lebih dari satu tanpa kembali ke tempat yang sama. Permasalahan ini termasuk dalam NP-Complete problems. Terdapat berbagai macam algoritma untuk penyelesaian yang akan dibahas dalam notebook ini.\n"
      ],
      "metadata": {
        "id": "Plt3084Tpf0Y"
      }
    },
    {
      "cell_type": "markdown",
      "source": [
        "Metode Brute Force\n",
        "\n",
        "---\n",
        "Metode brute force adalah metode yang melakukan iterasi terhadap setiap kasus perjalanan yang ada. Algoritma ini memiliki kompleksitas O((n-1)!). Kompleksitas tersebut membuat metode brute dorce menjadi lambat untuk dijalankan. Namun demikian, rute yang dihasilkan akan selalu rute terpendek karena sudah mengecek setiap kondisi yang ada.\n",
        "\n",
        "\n",
        "\n"
      ],
      "metadata": {
        "id": "hWp560SYqj01"
      }
    },
    {
      "cell_type": "code",
      "source": [
        "jarak = [[0,137,154,201,179],\n",
        "\t    \t [137,0,245,125,216],\n",
        "   \t     [154,245,0,185,163],\n",
        " \t    \t [201,125,185,0,326],\n",
        "\t    \t [179,216,163,326,0]]\n",
        "\n",
        "\n",
        "def BruteForce(listo):\n",
        "  indeks = [a for a in range(1,len(jarak))]\n",
        "  def permutation(lst):\n",
        "    if len(lst) == 1:\n",
        "      return [lst]\n",
        "    l = []\n",
        "    for i in range(len(lst)):\n",
        "       m = lst[i]\n",
        "       remLst = lst[:i] + lst[i+1:]\n",
        "       for p in permutation(remLst):\n",
        "           l.append([m] + p)\n",
        "    return l\n",
        "  minim = 10**10\n",
        "  rute = []\n",
        "  for p in permutation(indeks):\n",
        "    p.insert(0,0), p.append(0)\n",
        "    #print(p)\n",
        "    res = 0\n",
        "    count = 0\n",
        "    for k in range(len(p)-1):\n",
        "      res += jarak[p[k]][p[k+1]]\n",
        "    if res<minim:\n",
        "      minim = res\n",
        "      rute = p\n",
        "    #print(res)\n",
        "  print(f\"Jarak terependek : {minim}\\nRute : {rute}\")\n",
        "\n",
        "BruteForce(jarak)"
      ],
      "metadata": {
        "colab": {
          "base_uri": "https://localhost:8080/"
        },
        "id": "iLLAo8nzBVSX",
        "outputId": "7b037374-cdd0-4341-9fd1-f8e2fa5a64de"
      },
      "execution_count": 73,
      "outputs": [
        {
          "output_type": "stream",
          "name": "stdout",
          "text": [
            "Jarak terependek : 789\n",
            "Rute : [0, 1, 3, 2, 4, 0]\n"
          ]
        }
      ]
    },
    {
      "cell_type": "markdown",
      "source": [
        "Algoritma Greedy\n",
        "\n",
        "\n",
        "---\n",
        "Algoritma ini dilakukan dengan langsung mengambil jarak terpendek dari satu tempat ke tempat lainnya. Kelebihan algoritma ini adalah kompleksitas-nya tergolong kecil, yaitu O(n-1). Akan tetapi, kekurangan dari algoritma ini adalah rute yang dihasilkan tidak selalu menjadi yang terpendek, namun untuk kebanyakan kasus hasilnya sudah cukup baik.\n"
      ],
      "metadata": {
        "id": "to1vyuiard7a"
      }
    },
    {
      "cell_type": "code",
      "source": [
        "def Greedy(listo):\n",
        "  import copy\n",
        "  rute = [0]\n",
        "  panjang = 0\n",
        "  n = 0\n",
        "  k = 0\n",
        "  kopi = copy.deepcopy(listo)\n",
        "  for x in kopi:\n",
        "    x.sort()\n",
        "  for i in range(len(listo)-1):\n",
        "    k = listo[n].index(kopi[n][1])\n",
        "    rute.append(k)\n",
        "    panjang += kopi[n][1]\n",
        "    for _ in range(len(listo)):\n",
        "      kopi[_].remove(listo[_][n])\n",
        "    n = k\n",
        "  rute.append(0)\n",
        "  panjang += listo[n][0]\n",
        "  print(f\"Jarak Terpendek : {panjang}\\nRute : {rute}\")\n",
        "\n",
        "Greedy(jarak)"
      ],
      "metadata": {
        "id": "Lad41rKKVvOP",
        "colab": {
          "base_uri": "https://localhost:8080/"
        },
        "outputId": "1c9a28f2-1663-46d7-efe3-c9e4d56a27f8"
      },
      "execution_count": 74,
      "outputs": [
        {
          "output_type": "stream",
          "name": "stdout",
          "text": [
            "Jarak Terpendek : 789\n",
            "Rute : [0, 1, 3, 2, 4, 0]\n"
          ]
        }
      ]
    }
  ]
}